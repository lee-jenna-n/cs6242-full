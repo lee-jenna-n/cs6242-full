{
 "cells": [
  {
   "cell_type": "markdown",
   "metadata": {},
   "source": [
    "# Step 0: Import data (Megan)"
   ]
  },
  {
   "cell_type": "code",
   "execution_count": 1,
   "metadata": {},
   "outputs": [],
   "source": [
    "import pandas as pd\n",
    "import numpy as np\n",
    "import random\n",
    "import matplotlib.pyplot as plt\n",
    "import seaborn as sns\n",
    "from sklearn.preprocessing import MinMaxScaler\n",
    "from sklearn.preprocessing import StandardScaler\n",
    "from sklearn.decomposition import PCA\n",
    "from sklearn.cluster import KMeans\n",
    "from yellowbrick.cluster import SilhouetteVisualizer\n",
    "from yellowbrick.cluster import silhouette_visualizer\n",
    "from sklearn.model_selection import train_test_split\n",
    "from sklearn.metrics import silhouette_score\n",
    "from sklearn.metrics import confusion_matrix\n",
    "import pyarrow\n",
    "import chart_studio.plotly as py\n",
    "import plotly.graph_objs as go\n",
    "import chart_studio\n",
    "import plotly.express as px\n",
    "from datetime import datetime\n",
    "from scipy.spatial import distance_matrix\n",
    "from sklearn.metrics import pairwise_distances"
   ]
  },
  {
   "cell_type": "code",
   "execution_count": 2,
   "metadata": {
    "scrolled": true
   },
   "outputs": [],
   "source": [
    "#Note - You can download the tracks_features.csv file from the below URL\n",
    "##Download this file from the URL https://www.kaggle.com/rodolfofigueroa/spotify-12m-songs/\n",
    "\n",
    "df_full = pd.read_csv(\"../FlaskAPI/data/tracks_features.csv\") "
   ]
  },
  {
   "cell_type": "code",
   "execution_count": 3,
   "metadata": {
    "scrolled": false
   },
   "outputs": [
    {
     "data": {
      "text/html": [
       "<div>\n",
       "<style scoped>\n",
       "    .dataframe tbody tr th:only-of-type {\n",
       "        vertical-align: middle;\n",
       "    }\n",
       "\n",
       "    .dataframe tbody tr th {\n",
       "        vertical-align: top;\n",
       "    }\n",
       "\n",
       "    .dataframe thead th {\n",
       "        text-align: right;\n",
       "    }\n",
       "</style>\n",
       "<table border=\"1\" class=\"dataframe\">\n",
       "  <thead>\n",
       "    <tr style=\"text-align: right;\">\n",
       "      <th></th>\n",
       "      <th>id</th>\n",
       "      <th>name</th>\n",
       "      <th>album</th>\n",
       "      <th>album_id</th>\n",
       "      <th>artists</th>\n",
       "      <th>artist_ids</th>\n",
       "      <th>track_number</th>\n",
       "      <th>disc_number</th>\n",
       "      <th>explicit</th>\n",
       "      <th>danceability</th>\n",
       "      <th>...</th>\n",
       "      <th>speechiness</th>\n",
       "      <th>acousticness</th>\n",
       "      <th>instrumentalness</th>\n",
       "      <th>liveness</th>\n",
       "      <th>valence</th>\n",
       "      <th>tempo</th>\n",
       "      <th>duration_ms</th>\n",
       "      <th>time_signature</th>\n",
       "      <th>year</th>\n",
       "      <th>release_date</th>\n",
       "    </tr>\n",
       "  </thead>\n",
       "  <tbody>\n",
       "    <tr>\n",
       "      <th>0</th>\n",
       "      <td>7lmeHLHBe4nmXzuXc0HDjk</td>\n",
       "      <td>Testify</td>\n",
       "      <td>The Battle Of Los Angeles</td>\n",
       "      <td>2eia0myWFgoHuttJytCxgX</td>\n",
       "      <td>['Rage Against The Machine']</td>\n",
       "      <td>['2d0hyoQ5ynDBnkvAbJKORj']</td>\n",
       "      <td>1</td>\n",
       "      <td>1</td>\n",
       "      <td>0</td>\n",
       "      <td>0.470</td>\n",
       "      <td>...</td>\n",
       "      <td>0.0727</td>\n",
       "      <td>0.02610</td>\n",
       "      <td>0.000011</td>\n",
       "      <td>0.3560</td>\n",
       "      <td>0.503</td>\n",
       "      <td>117.906</td>\n",
       "      <td>210133</td>\n",
       "      <td>4.0</td>\n",
       "      <td>1999</td>\n",
       "      <td>1999-11-02</td>\n",
       "    </tr>\n",
       "    <tr>\n",
       "      <th>1</th>\n",
       "      <td>1wsRitfRRtWyEapl0q22o8</td>\n",
       "      <td>Guerrilla Radio</td>\n",
       "      <td>The Battle Of Los Angeles</td>\n",
       "      <td>2eia0myWFgoHuttJytCxgX</td>\n",
       "      <td>['Rage Against The Machine']</td>\n",
       "      <td>['2d0hyoQ5ynDBnkvAbJKORj']</td>\n",
       "      <td>2</td>\n",
       "      <td>1</td>\n",
       "      <td>1</td>\n",
       "      <td>0.599</td>\n",
       "      <td>...</td>\n",
       "      <td>0.1880</td>\n",
       "      <td>0.01290</td>\n",
       "      <td>0.000071</td>\n",
       "      <td>0.1550</td>\n",
       "      <td>0.489</td>\n",
       "      <td>103.680</td>\n",
       "      <td>206200</td>\n",
       "      <td>4.0</td>\n",
       "      <td>1999</td>\n",
       "      <td>1999-11-02</td>\n",
       "    </tr>\n",
       "    <tr>\n",
       "      <th>2</th>\n",
       "      <td>1hR0fIFK2qRG3f3RF70pb7</td>\n",
       "      <td>Calm Like a Bomb</td>\n",
       "      <td>The Battle Of Los Angeles</td>\n",
       "      <td>2eia0myWFgoHuttJytCxgX</td>\n",
       "      <td>['Rage Against The Machine']</td>\n",
       "      <td>['2d0hyoQ5ynDBnkvAbJKORj']</td>\n",
       "      <td>3</td>\n",
       "      <td>1</td>\n",
       "      <td>0</td>\n",
       "      <td>0.315</td>\n",
       "      <td>...</td>\n",
       "      <td>0.4830</td>\n",
       "      <td>0.02340</td>\n",
       "      <td>0.000002</td>\n",
       "      <td>0.1220</td>\n",
       "      <td>0.370</td>\n",
       "      <td>149.749</td>\n",
       "      <td>298893</td>\n",
       "      <td>4.0</td>\n",
       "      <td>1999</td>\n",
       "      <td>1999-11-02</td>\n",
       "    </tr>\n",
       "    <tr>\n",
       "      <th>3</th>\n",
       "      <td>2lbASgTSoDO7MTuLAXlTW0</td>\n",
       "      <td>Mic Check</td>\n",
       "      <td>The Battle Of Los Angeles</td>\n",
       "      <td>2eia0myWFgoHuttJytCxgX</td>\n",
       "      <td>['Rage Against The Machine']</td>\n",
       "      <td>['2d0hyoQ5ynDBnkvAbJKORj']</td>\n",
       "      <td>4</td>\n",
       "      <td>1</td>\n",
       "      <td>1</td>\n",
       "      <td>0.440</td>\n",
       "      <td>...</td>\n",
       "      <td>0.2370</td>\n",
       "      <td>0.16300</td>\n",
       "      <td>0.000004</td>\n",
       "      <td>0.1210</td>\n",
       "      <td>0.574</td>\n",
       "      <td>96.752</td>\n",
       "      <td>213640</td>\n",
       "      <td>4.0</td>\n",
       "      <td>1999</td>\n",
       "      <td>1999-11-02</td>\n",
       "    </tr>\n",
       "    <tr>\n",
       "      <th>4</th>\n",
       "      <td>1MQTmpYOZ6fcMQc56Hdo7T</td>\n",
       "      <td>Sleep Now In the Fire</td>\n",
       "      <td>The Battle Of Los Angeles</td>\n",
       "      <td>2eia0myWFgoHuttJytCxgX</td>\n",
       "      <td>['Rage Against The Machine']</td>\n",
       "      <td>['2d0hyoQ5ynDBnkvAbJKORj']</td>\n",
       "      <td>5</td>\n",
       "      <td>1</td>\n",
       "      <td>0</td>\n",
       "      <td>0.426</td>\n",
       "      <td>...</td>\n",
       "      <td>0.0701</td>\n",
       "      <td>0.00162</td>\n",
       "      <td>0.105000</td>\n",
       "      <td>0.0789</td>\n",
       "      <td>0.539</td>\n",
       "      <td>127.059</td>\n",
       "      <td>205600</td>\n",
       "      <td>4.0</td>\n",
       "      <td>1999</td>\n",
       "      <td>1999-11-02</td>\n",
       "    </tr>\n",
       "  </tbody>\n",
       "</table>\n",
       "<p>5 rows × 24 columns</p>\n",
       "</div>"
      ],
      "text/plain": [
       "                       id                   name                      album  \\\n",
       "0  7lmeHLHBe4nmXzuXc0HDjk                Testify  The Battle Of Los Angeles   \n",
       "1  1wsRitfRRtWyEapl0q22o8        Guerrilla Radio  The Battle Of Los Angeles   \n",
       "2  1hR0fIFK2qRG3f3RF70pb7       Calm Like a Bomb  The Battle Of Los Angeles   \n",
       "3  2lbASgTSoDO7MTuLAXlTW0              Mic Check  The Battle Of Los Angeles   \n",
       "4  1MQTmpYOZ6fcMQc56Hdo7T  Sleep Now In the Fire  The Battle Of Los Angeles   \n",
       "\n",
       "                 album_id                       artists  \\\n",
       "0  2eia0myWFgoHuttJytCxgX  ['Rage Against The Machine']   \n",
       "1  2eia0myWFgoHuttJytCxgX  ['Rage Against The Machine']   \n",
       "2  2eia0myWFgoHuttJytCxgX  ['Rage Against The Machine']   \n",
       "3  2eia0myWFgoHuttJytCxgX  ['Rage Against The Machine']   \n",
       "4  2eia0myWFgoHuttJytCxgX  ['Rage Against The Machine']   \n",
       "\n",
       "                   artist_ids  track_number  disc_number  explicit  \\\n",
       "0  ['2d0hyoQ5ynDBnkvAbJKORj']             1            1         0   \n",
       "1  ['2d0hyoQ5ynDBnkvAbJKORj']             2            1         1   \n",
       "2  ['2d0hyoQ5ynDBnkvAbJKORj']             3            1         0   \n",
       "3  ['2d0hyoQ5ynDBnkvAbJKORj']             4            1         1   \n",
       "4  ['2d0hyoQ5ynDBnkvAbJKORj']             5            1         0   \n",
       "\n",
       "   danceability  ...  speechiness  acousticness  instrumentalness  liveness  \\\n",
       "0         0.470  ...       0.0727       0.02610          0.000011    0.3560   \n",
       "1         0.599  ...       0.1880       0.01290          0.000071    0.1550   \n",
       "2         0.315  ...       0.4830       0.02340          0.000002    0.1220   \n",
       "3         0.440  ...       0.2370       0.16300          0.000004    0.1210   \n",
       "4         0.426  ...       0.0701       0.00162          0.105000    0.0789   \n",
       "\n",
       "   valence    tempo  duration_ms  time_signature  year  release_date  \n",
       "0    0.503  117.906       210133             4.0  1999    1999-11-02  \n",
       "1    0.489  103.680       206200             4.0  1999    1999-11-02  \n",
       "2    0.370  149.749       298893             4.0  1999    1999-11-02  \n",
       "3    0.574   96.752       213640             4.0  1999    1999-11-02  \n",
       "4    0.539  127.059       205600             4.0  1999    1999-11-02  \n",
       "\n",
       "[5 rows x 24 columns]"
      ]
     },
     "execution_count": 3,
     "metadata": {},
     "output_type": "execute_result"
    }
   ],
   "source": [
    "df_full['explicit'] = df_full['explicit'].astype('int')\n",
    "df_full.head()"
   ]
  },
  {
   "cell_type": "code",
   "execution_count": 4,
   "metadata": {},
   "outputs": [],
   "source": [
    "# print(df_full.columns)"
   ]
  },
  {
   "cell_type": "code",
   "execution_count": 5,
   "metadata": {},
   "outputs": [
    {
     "data": {
      "text/html": [
       "<div>\n",
       "<style scoped>\n",
       "    .dataframe tbody tr th:only-of-type {\n",
       "        vertical-align: middle;\n",
       "    }\n",
       "\n",
       "    .dataframe tbody tr th {\n",
       "        vertical-align: top;\n",
       "    }\n",
       "\n",
       "    .dataframe thead th {\n",
       "        text-align: right;\n",
       "    }\n",
       "</style>\n",
       "<table border=\"1\" class=\"dataframe\">\n",
       "  <thead>\n",
       "    <tr style=\"text-align: right;\">\n",
       "      <th></th>\n",
       "      <th>0</th>\n",
       "      <th>1</th>\n",
       "      <th>2</th>\n",
       "      <th>3</th>\n",
       "      <th>4</th>\n",
       "      <th>5</th>\n",
       "      <th>6</th>\n",
       "      <th>7</th>\n",
       "      <th>8</th>\n",
       "      <th>9</th>\n",
       "      <th>10</th>\n",
       "      <th>11</th>\n",
       "      <th>12</th>\n",
       "    </tr>\n",
       "  </thead>\n",
       "  <tbody>\n",
       "    <tr>\n",
       "      <th>1204020</th>\n",
       "      <td>-0.271482</td>\n",
       "      <td>-1.207662</td>\n",
       "      <td>1.548995</td>\n",
       "      <td>-0.054896</td>\n",
       "      <td>0.693013</td>\n",
       "      <td>-1.429603</td>\n",
       "      <td>-0.148133</td>\n",
       "      <td>-1.135513</td>\n",
       "      <td>-0.745767</td>\n",
       "      <td>0.750312</td>\n",
       "      <td>-0.048012</td>\n",
       "      <td>1.356033</td>\n",
       "      <td>0.298487</td>\n",
       "    </tr>\n",
       "    <tr>\n",
       "      <th>1204021</th>\n",
       "      <td>-0.271482</td>\n",
       "      <td>1.597219</td>\n",
       "      <td>0.649726</td>\n",
       "      <td>1.641587</td>\n",
       "      <td>0.745719</td>\n",
       "      <td>-1.429603</td>\n",
       "      <td>0.033777</td>\n",
       "      <td>-0.889797</td>\n",
       "      <td>0.959752</td>\n",
       "      <td>-0.702095</td>\n",
       "      <td>1.305115</td>\n",
       "      <td>0.140468</td>\n",
       "      <td>0.298487</td>\n",
       "    </tr>\n",
       "    <tr>\n",
       "      <th>1204022</th>\n",
       "      <td>-0.271482</td>\n",
       "      <td>1.539223</td>\n",
       "      <td>0.972105</td>\n",
       "      <td>1.076093</td>\n",
       "      <td>0.837668</td>\n",
       "      <td>-1.429603</td>\n",
       "      <td>-0.241244</td>\n",
       "      <td>-1.080866</td>\n",
       "      <td>1.687925</td>\n",
       "      <td>-0.749197</td>\n",
       "      <td>0.144235</td>\n",
       "      <td>0.140985</td>\n",
       "      <td>0.298487</td>\n",
       "    </tr>\n",
       "    <tr>\n",
       "      <th>1204023</th>\n",
       "      <td>-0.271482</td>\n",
       "      <td>0.906543</td>\n",
       "      <td>1.175714</td>\n",
       "      <td>0.227851</td>\n",
       "      <td>0.719079</td>\n",
       "      <td>-1.429603</td>\n",
       "      <td>-0.374875</td>\n",
       "      <td>-1.159605</td>\n",
       "      <td>1.310550</td>\n",
       "      <td>-0.468801</td>\n",
       "      <td>-0.743062</td>\n",
       "      <td>0.237633</td>\n",
       "      <td>0.298487</td>\n",
       "    </tr>\n",
       "    <tr>\n",
       "      <th>1204024</th>\n",
       "      <td>-0.271482</td>\n",
       "      <td>1.280879</td>\n",
       "      <td>0.673480</td>\n",
       "      <td>-0.903137</td>\n",
       "      <td>0.362311</td>\n",
       "      <td>-1.429603</td>\n",
       "      <td>-0.262797</td>\n",
       "      <td>-1.116173</td>\n",
       "      <td>0.034919</td>\n",
       "      <td>0.428910</td>\n",
       "      <td>-0.828094</td>\n",
       "      <td>0.011528</td>\n",
       "      <td>0.298487</td>\n",
       "    </tr>\n",
       "  </tbody>\n",
       "</table>\n",
       "</div>"
      ],
      "text/plain": [
       "                0         1         2         3         4         5         6  \\\n",
       "1204020 -0.271482 -1.207662  1.548995 -0.054896  0.693013 -1.429603 -0.148133   \n",
       "1204021 -0.271482  1.597219  0.649726  1.641587  0.745719 -1.429603  0.033777   \n",
       "1204022 -0.271482  1.539223  0.972105  1.076093  0.837668 -1.429603 -0.241244   \n",
       "1204023 -0.271482  0.906543  1.175714  0.227851  0.719079 -1.429603 -0.374875   \n",
       "1204024 -0.271482  1.280879  0.673480 -0.903137  0.362311 -1.429603 -0.262797   \n",
       "\n",
       "                7         8         9        10        11        12  \n",
       "1204020 -1.135513 -0.745767  0.750312 -0.048012  1.356033  0.298487  \n",
       "1204021 -0.889797  0.959752 -0.702095  1.305115  0.140468  0.298487  \n",
       "1204022 -1.080866  1.687925 -0.749197  0.144235  0.140985  0.298487  \n",
       "1204023 -1.159605  1.310550 -0.468801 -0.743062  0.237633  0.298487  \n",
       "1204024 -1.116173  0.034919  0.428910 -0.828094  0.011528  0.298487  "
      ]
     },
     "metadata": {},
     "output_type": "display_data"
    },
    {
     "data": {
      "text/plain": [
       "(1204025, 13)"
      ]
     },
     "execution_count": 5,
     "metadata": {},
     "output_type": "execute_result"
    }
   ],
   "source": [
    "df = df_full[['explicit', 'danceability', 'energy',\n",
    "       'key', 'loudness', 'mode', 'speechiness', 'acousticness',\n",
    "       'instrumentalness', 'liveness', 'valence', 'tempo', 'time_signature']]\n",
    "df = pd.DataFrame(MinMaxScaler().fit_transform(df)) # scale data\n",
    "df = pd.DataFrame(StandardScaler().fit_transform(df)) # standardize data\n",
    "display(df.tail())\n",
    "df.shape"
   ]
  },
  {
   "cell_type": "markdown",
   "metadata": {},
   "source": [
    "# Step 1: Generate the seed data for each activity (Megan)"
   ]
  },
  {
   "cell_type": "code",
   "execution_count": 6,
   "metadata": {},
   "outputs": [],
   "source": [
    "activities = [\"driving\", \"cooking\", \"studying\", \"working out\", \"cleaning\", \"being creative\"]"
   ]
  },
  {
   "cell_type": "markdown",
   "metadata": {},
   "source": [
    "### Generate dummy seed songs - To be removed later"
   ]
  },
  {
   "cell_type": "code",
   "execution_count": 7,
   "metadata": {},
   "outputs": [
    {
     "name": "stdout",
     "output_type": "stream",
     "text": [
      "{'driving': [1009509, 643454, 1070226, 938827, 277775, 303119, 540604, 169679, 470218, 7309], 'cooking': [1135666, 643614, 1194641, 277319, 259318, 949158, 1091940, 864178, 854899, 3985], 'studying': [888750, 549451, 832850, 573038, 941392, 982679, 596858, 97186, 249124, 927021], 'working out': [1109158, 391621, 790919, 373740, 1107589, 558111, 375117, 1172632, 812351, 484322], 'cleaning': [1091449, 1193977, 660222, 806166, 839972, 1149816, 714543, 273423, 76094, 436460], 'being creative': [501568, 408898, 630995, 976859, 194217, 536023, 962543, 20515, 941816, 345905]}\n"
     ]
    }
   ],
   "source": [
    "# generate dummy indices for each activity\n",
    "seed_songs = {}\n",
    "for a in activities:\n",
    "    seed_songs[a] = random.sample(range(0, df.shape[0]-1), 10)\n",
    "print(seed_songs)"
   ]
  },
  {
   "cell_type": "code",
   "execution_count": 8,
   "metadata": {},
   "outputs": [
    {
     "data": {
      "text/html": [
       "<div>\n",
       "<style scoped>\n",
       "    .dataframe tbody tr th:only-of-type {\n",
       "        vertical-align: middle;\n",
       "    }\n",
       "\n",
       "    .dataframe tbody tr th {\n",
       "        vertical-align: top;\n",
       "    }\n",
       "\n",
       "    .dataframe thead th {\n",
       "        text-align: right;\n",
       "    }\n",
       "</style>\n",
       "<table border=\"1\" class=\"dataframe\">\n",
       "  <thead>\n",
       "    <tr style=\"text-align: right;\">\n",
       "      <th></th>\n",
       "      <th>0</th>\n",
       "      <th>1</th>\n",
       "      <th>2</th>\n",
       "      <th>3</th>\n",
       "      <th>4</th>\n",
       "      <th>5</th>\n",
       "      <th>6</th>\n",
       "      <th>7</th>\n",
       "      <th>8</th>\n",
       "      <th>9</th>\n",
       "      <th>10</th>\n",
       "      <th>11</th>\n",
       "      <th>12</th>\n",
       "    </tr>\n",
       "  </thead>\n",
       "  <tbody>\n",
       "    <tr>\n",
       "      <th>1009509</th>\n",
       "      <td>-0.271482</td>\n",
       "      <td>0.416216</td>\n",
       "      <td>-0.829826</td>\n",
       "      <td>1.641587</td>\n",
       "      <td>-1.844466</td>\n",
       "      <td>0.699495</td>\n",
       "      <td>6.773074</td>\n",
       "      <td>1.381742</td>\n",
       "      <td>-0.751720</td>\n",
       "      <td>-0.485425</td>\n",
       "      <td>-0.022133</td>\n",
       "      <td>-0.793397</td>\n",
       "      <td>-5.047369</td>\n",
       "    </tr>\n",
       "    <tr>\n",
       "      <th>643454</th>\n",
       "      <td>-0.271482</td>\n",
       "      <td>-0.058294</td>\n",
       "      <td>-1.342240</td>\n",
       "      <td>-1.468631</td>\n",
       "      <td>-1.067339</td>\n",
       "      <td>0.699495</td>\n",
       "      <td>-0.345562</td>\n",
       "      <td>1.423279</td>\n",
       "      <td>1.709185</td>\n",
       "      <td>-0.557464</td>\n",
       "      <td>0.025929</td>\n",
       "      <td>0.582527</td>\n",
       "      <td>-5.047369</td>\n",
       "    </tr>\n",
       "    <tr>\n",
       "      <th>1070226</th>\n",
       "      <td>-0.271482</td>\n",
       "      <td>1.275607</td>\n",
       "      <td>0.442724</td>\n",
       "      <td>-1.468631</td>\n",
       "      <td>0.460992</td>\n",
       "      <td>-1.429603</td>\n",
       "      <td>-0.448156</td>\n",
       "      <td>-0.588656</td>\n",
       "      <td>-0.744970</td>\n",
       "      <td>2.434906</td>\n",
       "      <td>0.717281</td>\n",
       "      <td>-0.196701</td>\n",
       "      <td>0.298487</td>\n",
       "    </tr>\n",
       "    <tr>\n",
       "      <th>938827</th>\n",
       "      <td>-0.271482</td>\n",
       "      <td>-0.474808</td>\n",
       "      <td>-0.863761</td>\n",
       "      <td>1.076093</td>\n",
       "      <td>-0.336616</td>\n",
       "      <td>0.699495</td>\n",
       "      <td>-0.469709</td>\n",
       "      <td>0.732731</td>\n",
       "      <td>-0.483306</td>\n",
       "      <td>-0.632273</td>\n",
       "      <td>-1.479518</td>\n",
       "      <td>-1.477529</td>\n",
       "      <td>0.298487</td>\n",
       "    </tr>\n",
       "    <tr>\n",
       "      <th>277775</th>\n",
       "      <td>-0.271482</td>\n",
       "      <td>0.247502</td>\n",
       "      <td>-0.816252</td>\n",
       "      <td>-0.337643</td>\n",
       "      <td>-1.141242</td>\n",
       "      <td>0.699495</td>\n",
       "      <td>-0.454191</td>\n",
       "      <td>-1.152621</td>\n",
       "      <td>-0.709199</td>\n",
       "      <td>-0.335807</td>\n",
       "      <td>-0.658029</td>\n",
       "      <td>-0.086380</td>\n",
       "      <td>-1.483465</td>\n",
       "    </tr>\n",
       "    <tr>\n",
       "      <th>303119</th>\n",
       "      <td>-0.271482</td>\n",
       "      <td>-0.084655</td>\n",
       "      <td>1.559175</td>\n",
       "      <td>0.510599</td>\n",
       "      <td>1.088737</td>\n",
       "      <td>0.699495</td>\n",
       "      <td>-0.239520</td>\n",
       "      <td>-1.152154</td>\n",
       "      <td>-0.751689</td>\n",
       "      <td>-0.700433</td>\n",
       "      <td>0.336483</td>\n",
       "      <td>0.885141</td>\n",
       "      <td>0.298487</td>\n",
       "    </tr>\n",
       "    <tr>\n",
       "      <th>540604</th>\n",
       "      <td>-0.271482</td>\n",
       "      <td>-0.190102</td>\n",
       "      <td>-1.444044</td>\n",
       "      <td>0.510599</td>\n",
       "      <td>-2.167290</td>\n",
       "      <td>0.699495</td>\n",
       "      <td>-0.424016</td>\n",
       "      <td>1.420683</td>\n",
       "      <td>1.563019</td>\n",
       "      <td>-0.579076</td>\n",
       "      <td>-0.794821</td>\n",
       "      <td>-0.327257</td>\n",
       "      <td>0.298487</td>\n",
       "    </tr>\n",
       "    <tr>\n",
       "      <th>169679</th>\n",
       "      <td>-0.271482</td>\n",
       "      <td>-2.200443</td>\n",
       "      <td>-0.497266</td>\n",
       "      <td>0.510599</td>\n",
       "      <td>-0.459931</td>\n",
       "      <td>-1.429603</td>\n",
       "      <td>-0.417981</td>\n",
       "      <td>1.259728</td>\n",
       "      <td>1.799542</td>\n",
       "      <td>-0.513133</td>\n",
       "      <td>-1.229596</td>\n",
       "      <td>-1.192239</td>\n",
       "      <td>0.298487</td>\n",
       "    </tr>\n",
       "    <tr>\n",
       "      <th>470218</th>\n",
       "      <td>-0.271482</td>\n",
       "      <td>-1.402739</td>\n",
       "      <td>-1.359207</td>\n",
       "      <td>0.510599</td>\n",
       "      <td>-1.252669</td>\n",
       "      <td>-1.429603</td>\n",
       "      <td>-0.343838</td>\n",
       "      <td>1.412895</td>\n",
       "      <td>0.840161</td>\n",
       "      <td>-0.297017</td>\n",
       "      <td>-1.157134</td>\n",
       "      <td>-0.253688</td>\n",
       "      <td>0.298487</td>\n",
       "    </tr>\n",
       "    <tr>\n",
       "      <th>7309</th>\n",
       "      <td>-0.271482</td>\n",
       "      <td>-0.005570</td>\n",
       "      <td>1.257157</td>\n",
       "      <td>0.510599</td>\n",
       "      <td>1.002803</td>\n",
       "      <td>0.699495</td>\n",
       "      <td>-0.198999</td>\n",
       "      <td>-1.158291</td>\n",
       "      <td>-0.738778</td>\n",
       "      <td>0.556362</td>\n",
       "      <td>1.342086</td>\n",
       "      <td>-0.570331</td>\n",
       "      <td>0.298487</td>\n",
       "    </tr>\n",
       "  </tbody>\n",
       "</table>\n",
       "</div>"
      ],
      "text/plain": [
       "                0         1         2         3         4         5         6  \\\n",
       "1009509 -0.271482  0.416216 -0.829826  1.641587 -1.844466  0.699495  6.773074   \n",
       "643454  -0.271482 -0.058294 -1.342240 -1.468631 -1.067339  0.699495 -0.345562   \n",
       "1070226 -0.271482  1.275607  0.442724 -1.468631  0.460992 -1.429603 -0.448156   \n",
       "938827  -0.271482 -0.474808 -0.863761  1.076093 -0.336616  0.699495 -0.469709   \n",
       "277775  -0.271482  0.247502 -0.816252 -0.337643 -1.141242  0.699495 -0.454191   \n",
       "303119  -0.271482 -0.084655  1.559175  0.510599  1.088737  0.699495 -0.239520   \n",
       "540604  -0.271482 -0.190102 -1.444044  0.510599 -2.167290  0.699495 -0.424016   \n",
       "169679  -0.271482 -2.200443 -0.497266  0.510599 -0.459931 -1.429603 -0.417981   \n",
       "470218  -0.271482 -1.402739 -1.359207  0.510599 -1.252669 -1.429603 -0.343838   \n",
       "7309    -0.271482 -0.005570  1.257157  0.510599  1.002803  0.699495 -0.198999   \n",
       "\n",
       "                7         8         9        10        11        12  \n",
       "1009509  1.381742 -0.751720 -0.485425 -0.022133 -0.793397 -5.047369  \n",
       "643454   1.423279  1.709185 -0.557464  0.025929  0.582527 -5.047369  \n",
       "1070226 -0.588656 -0.744970  2.434906  0.717281 -0.196701  0.298487  \n",
       "938827   0.732731 -0.483306 -0.632273 -1.479518 -1.477529  0.298487  \n",
       "277775  -1.152621 -0.709199 -0.335807 -0.658029 -0.086380 -1.483465  \n",
       "303119  -1.152154 -0.751689 -0.700433  0.336483  0.885141  0.298487  \n",
       "540604   1.420683  1.563019 -0.579076 -0.794821 -0.327257  0.298487  \n",
       "169679   1.259728  1.799542 -0.513133 -1.229596 -1.192239  0.298487  \n",
       "470218   1.412895  0.840161 -0.297017 -1.157134 -0.253688  0.298487  \n",
       "7309    -1.158291 -0.738778  0.556362  1.342086 -0.570331  0.298487  "
      ]
     },
     "execution_count": 8,
     "metadata": {},
     "output_type": "execute_result"
    }
   ],
   "source": [
    "# generate dataframes for each activity\n",
    "seed_df = {}\n",
    "for a in activities:\n",
    "    seed_df[a] = df.loc[seed_songs[a]]\n",
    "seed_df['driving']"
   ]
  },
  {
   "cell_type": "markdown",
   "metadata": {},
   "source": [
    "### Transform and append seed songs"
   ]
  },
  {
   "cell_type": "code",
   "execution_count": 9,
   "metadata": {},
   "outputs": [],
   "source": [
    "def pca_seed(a_df): # PCA a dataframe into a single data point\n",
    "    pca = PCA(n_components = 1)\n",
    "    pca.fit(a_df.T)\n",
    "    pca_trans = pca.transform(a_df.T)\n",
    "    a_pca = pd.DataFrame(pca_trans.T)\n",
    "    return a_pca"
   ]
  },
  {
   "cell_type": "code",
   "execution_count": 10,
   "metadata": {
    "code_folding": []
   },
   "outputs": [],
   "source": [
    "def combine_seeds(seed_df, df = df): # take a dict of songs dataframe, transform, and return a dataframe of seed data\n",
    "    seed_pca = pd.DataFrame()\n",
    "    for a in activities:\n",
    "        a_pca = pca_seed(seed_df[a])\n",
    "        seed_pca = seed_pca.append(a_pca) # dataframe of new seed data\n",
    "    return seed_pca"
   ]
  },
  {
   "cell_type": "code",
   "execution_count": 11,
   "metadata": {
    "scrolled": true
   },
   "outputs": [],
   "source": [
    "seed_pca = combine_seeds(seed_df, df)"
   ]
  },
  {
   "cell_type": "code",
   "execution_count": 12,
   "metadata": {},
   "outputs": [
    {
     "data": {
      "text/html": [
       "<div>\n",
       "<style scoped>\n",
       "    .dataframe tbody tr th:only-of-type {\n",
       "        vertical-align: middle;\n",
       "    }\n",
       "\n",
       "    .dataframe tbody tr th {\n",
       "        vertical-align: top;\n",
       "    }\n",
       "\n",
       "    .dataframe thead th {\n",
       "        text-align: right;\n",
       "    }\n",
       "</style>\n",
       "<table border=\"1\" class=\"dataframe\">\n",
       "  <thead>\n",
       "    <tr style=\"text-align: right;\">\n",
       "      <th></th>\n",
       "      <th>0</th>\n",
       "      <th>1</th>\n",
       "      <th>2</th>\n",
       "      <th>3</th>\n",
       "      <th>4</th>\n",
       "      <th>5</th>\n",
       "      <th>6</th>\n",
       "      <th>7</th>\n",
       "      <th>8</th>\n",
       "      <th>9</th>\n",
       "      <th>10</th>\n",
       "      <th>11</th>\n",
       "      <th>12</th>\n",
       "    </tr>\n",
       "  </thead>\n",
       "  <tbody>\n",
       "    <tr>\n",
       "      <th>0</th>\n",
       "      <td>0.077943</td>\n",
       "      <td>-0.309948</td>\n",
       "      <td>1.699699</td>\n",
       "      <td>-1.297062</td>\n",
       "      <td>2.494157</td>\n",
       "      <td>-1.270122</td>\n",
       "      <td>-6.064394</td>\n",
       "      <td>-2.519206</td>\n",
       "      <td>-0.692101</td>\n",
       "      <td>0.864382</td>\n",
       "      <td>0.294866</td>\n",
       "      <td>0.332775</td>\n",
       "      <td>6.389012</td>\n",
       "    </tr>\n",
       "    <tr>\n",
       "      <th>0</th>\n",
       "      <td>1.286779</td>\n",
       "      <td>0.628197</td>\n",
       "      <td>-1.198691</td>\n",
       "      <td>-1.812159</td>\n",
       "      <td>-2.001176</td>\n",
       "      <td>-2.624908</td>\n",
       "      <td>7.301050</td>\n",
       "      <td>1.043095</td>\n",
       "      <td>0.078655</td>\n",
       "      <td>-0.923322</td>\n",
       "      <td>1.105450</td>\n",
       "      <td>-2.540971</td>\n",
       "      <td>-0.342000</td>\n",
       "    </tr>\n",
       "    <tr>\n",
       "      <th>0</th>\n",
       "      <td>4.222065</td>\n",
       "      <td>-2.637445</td>\n",
       "      <td>1.092909</td>\n",
       "      <td>-0.093929</td>\n",
       "      <td>0.616563</td>\n",
       "      <td>-0.460108</td>\n",
       "      <td>-0.031695</td>\n",
       "      <td>-1.486130</td>\n",
       "      <td>3.341438</td>\n",
       "      <td>-1.962521</td>\n",
       "      <td>-2.615947</td>\n",
       "      <td>0.406658</td>\n",
       "      <td>-0.391858</td>\n",
       "    </tr>\n",
       "    <tr>\n",
       "      <th>0</th>\n",
       "      <td>-2.034443</td>\n",
       "      <td>0.779100</td>\n",
       "      <td>-2.215327</td>\n",
       "      <td>0.685610</td>\n",
       "      <td>-1.323986</td>\n",
       "      <td>-0.553594</td>\n",
       "      <td>2.952752</td>\n",
       "      <td>0.770293</td>\n",
       "      <td>1.683585</td>\n",
       "      <td>-0.645788</td>\n",
       "      <td>1.455053</td>\n",
       "      <td>-1.303224</td>\n",
       "      <td>-0.250031</td>\n",
       "    </tr>\n",
       "    <tr>\n",
       "      <th>0</th>\n",
       "      <td>4.030220</td>\n",
       "      <td>-0.502605</td>\n",
       "      <td>1.548509</td>\n",
       "      <td>1.514347</td>\n",
       "      <td>1.651765</td>\n",
       "      <td>-1.610599</td>\n",
       "      <td>-0.202789</td>\n",
       "      <td>-3.012815</td>\n",
       "      <td>-1.093596</td>\n",
       "      <td>-2.277242</td>\n",
       "      <td>-0.120302</td>\n",
       "      <td>1.353194</td>\n",
       "      <td>-1.278088</td>\n",
       "    </tr>\n",
       "    <tr>\n",
       "      <th>0</th>\n",
       "      <td>0.604444</td>\n",
       "      <td>-0.587996</td>\n",
       "      <td>-2.722330</td>\n",
       "      <td>0.400708</td>\n",
       "      <td>-2.411728</td>\n",
       "      <td>1.101627</td>\n",
       "      <td>0.969755</td>\n",
       "      <td>3.091032</td>\n",
       "      <td>2.865053</td>\n",
       "      <td>1.057807</td>\n",
       "      <td>-2.374288</td>\n",
       "      <td>-0.832773</td>\n",
       "      <td>-1.161310</td>\n",
       "    </tr>\n",
       "  </tbody>\n",
       "</table>\n",
       "</div>"
      ],
      "text/plain": [
       "          0         1         2         3         4         5         6  \\\n",
       "0  0.077943 -0.309948  1.699699 -1.297062  2.494157 -1.270122 -6.064394   \n",
       "0  1.286779  0.628197 -1.198691 -1.812159 -2.001176 -2.624908  7.301050   \n",
       "0  4.222065 -2.637445  1.092909 -0.093929  0.616563 -0.460108 -0.031695   \n",
       "0 -2.034443  0.779100 -2.215327  0.685610 -1.323986 -0.553594  2.952752   \n",
       "0  4.030220 -0.502605  1.548509  1.514347  1.651765 -1.610599 -0.202789   \n",
       "0  0.604444 -0.587996 -2.722330  0.400708 -2.411728  1.101627  0.969755   \n",
       "\n",
       "          7         8         9        10        11        12  \n",
       "0 -2.519206 -0.692101  0.864382  0.294866  0.332775  6.389012  \n",
       "0  1.043095  0.078655 -0.923322  1.105450 -2.540971 -0.342000  \n",
       "0 -1.486130  3.341438 -1.962521 -2.615947  0.406658 -0.391858  \n",
       "0  0.770293  1.683585 -0.645788  1.455053 -1.303224 -0.250031  \n",
       "0 -3.012815 -1.093596 -2.277242 -0.120302  1.353194 -1.278088  \n",
       "0  3.091032  2.865053  1.057807 -2.374288 -0.832773 -1.161310  "
      ]
     },
     "execution_count": 12,
     "metadata": {},
     "output_type": "execute_result"
    }
   ],
   "source": [
    "seed_pca"
   ]
  },
  {
   "cell_type": "code",
   "execution_count": 13,
   "metadata": {
    "scrolled": false
   },
   "outputs": [],
   "source": [
    "def append_seeds(seed_pca, df = df): # append seed data to the large df\n",
    "    df = df.append(seed_pca, ignore_index = True)\n",
    "    seed_ind = {}\n",
    "    indices = df.tail(len(activities)).index\n",
    "    for a, i in zip(activities, indices): # map seed data index with activity\n",
    "        seed_ind[a] = i\n",
    "    return df, seed_ind"
   ]
  },
  {
   "cell_type": "code",
   "execution_count": 14,
   "metadata": {},
   "outputs": [],
   "source": [
    "df, seed_ind = append_seeds(seed_pca, df)"
   ]
  },
  {
   "cell_type": "code",
   "execution_count": 15,
   "metadata": {},
   "outputs": [
    {
     "name": "stdout",
     "output_type": "stream",
     "text": [
      "(1204031, 13)\n",
      "{'driving': 1204025, 'cooking': 1204026, 'studying': 1204027, 'working out': 1204028, 'cleaning': 1204029, 'being creative': 1204030}\n"
     ]
    }
   ],
   "source": [
    "print(df.shape)\n",
    "print(seed_ind)"
   ]
  },
  {
   "cell_type": "code",
   "execution_count": 16,
   "metadata": {},
   "outputs": [],
   "source": [
    "n = df.shape[0]"
   ]
  },
  {
   "cell_type": "markdown",
   "metadata": {},
   "source": [
    "# Step 2: Perform k-means clustering on the entire dataset (Megan)"
   ]
  },
  {
   "cell_type": "markdown",
   "metadata": {},
   "source": [
    "### 1. PCA transform the dataset"
   ]
  },
  {
   "cell_type": "code",
   "execution_count": 17,
   "metadata": {},
   "outputs": [],
   "source": [
    "def pca_to_dim(dim, colnames = [], df = df):\n",
    "    pca = PCA(n_components = dim)\n",
    "    pca.fit(df)\n",
    "    pca_trans = pca.transform(df)\n",
    "    if len(colnames) > 0:\n",
    "        return pd.DataFrame(pca_trans, columns = colnames)\n",
    "    return pd.DataFrame(pca_trans)"
   ]
  },
  {
   "cell_type": "code",
   "execution_count": 18,
   "metadata": {},
   "outputs": [
    {
     "data": {
      "text/html": [
       "<div>\n",
       "<style scoped>\n",
       "    .dataframe tbody tr th:only-of-type {\n",
       "        vertical-align: middle;\n",
       "    }\n",
       "\n",
       "    .dataframe tbody tr th {\n",
       "        vertical-align: top;\n",
       "    }\n",
       "\n",
       "    .dataframe thead th {\n",
       "        text-align: right;\n",
       "    }\n",
       "</style>\n",
       "<table border=\"1\" class=\"dataframe\">\n",
       "  <thead>\n",
       "    <tr style=\"text-align: right;\">\n",
       "      <th></th>\n",
       "      <th>0</th>\n",
       "      <th>1</th>\n",
       "      <th>2</th>\n",
       "      <th>3</th>\n",
       "    </tr>\n",
       "  </thead>\n",
       "  <tbody>\n",
       "    <tr>\n",
       "      <th>0</th>\n",
       "      <td>-1.962883</td>\n",
       "      <td>-0.751394</td>\n",
       "      <td>0.675933</td>\n",
       "      <td>0.588615</td>\n",
       "    </tr>\n",
       "    <tr>\n",
       "      <th>1</th>\n",
       "      <td>-2.732301</td>\n",
       "      <td>2.157130</td>\n",
       "      <td>0.773148</td>\n",
       "      <td>-0.418980</td>\n",
       "    </tr>\n",
       "    <tr>\n",
       "      <th>2</th>\n",
       "      <td>-2.066001</td>\n",
       "      <td>0.783779</td>\n",
       "      <td>1.302939</td>\n",
       "      <td>0.764959</td>\n",
       "    </tr>\n",
       "    <tr>\n",
       "      <th>3</th>\n",
       "      <td>-2.444262</td>\n",
       "      <td>2.624588</td>\n",
       "      <td>1.651294</td>\n",
       "      <td>-1.609101</td>\n",
       "    </tr>\n",
       "    <tr>\n",
       "      <th>4</th>\n",
       "      <td>-1.554342</td>\n",
       "      <td>-1.212528</td>\n",
       "      <td>-0.245577</td>\n",
       "      <td>0.805386</td>\n",
       "    </tr>\n",
       "  </tbody>\n",
       "</table>\n",
       "</div>"
      ],
      "text/plain": [
       "          0         1         2         3\n",
       "0 -1.962883 -0.751394  0.675933  0.588615\n",
       "1 -2.732301  2.157130  0.773148 -0.418980\n",
       "2 -2.066001  0.783779  1.302939  0.764959\n",
       "3 -2.444262  2.624588  1.651294 -1.609101\n",
       "4 -1.554342 -1.212528 -0.245577  0.805386"
      ]
     },
     "execution_count": 18,
     "metadata": {},
     "output_type": "execute_result"
    }
   ],
   "source": [
    "df_pca = pca_to_dim(4)\n",
    "df_pca.head()"
   ]
  },
  {
   "cell_type": "markdown",
   "metadata": {},
   "source": [
    "### 2. Optimize number of segments"
   ]
  },
  {
   "cell_type": "markdown",
   "metadata": {},
   "source": [
    "*Method 1: Elbow method*\n",
    "\n",
    "For each of the K values, calculate average distances to the centroid across all data points, i.e. inertia. Find the value of k, i.e. number of segments, where the average distance from the centroid falls suddenly."
   ]
  },
  {
   "cell_type": "code",
   "execution_count": 19,
   "metadata": {},
   "outputs": [],
   "source": [
    "ssdist = []\n",
    "K = range(2, 11)\n",
    "# random.seed(seed)\n",
    "for num_clusters in K:\n",
    "    kmeans = KMeans(n_clusters=num_clusters)\n",
    "    kmeans.fit(df_pca)\n",
    "    ssdist.append(kmeans.inertia_)"
   ]
  },
  {
   "cell_type": "code",
   "execution_count": 20,
   "metadata": {},
   "outputs": [
    {
     "data": {
      "image/png": "[encoded data removed]",
      "text/plain": [
       "<Figure size 720x504 with 1 Axes>"
      ]
     },
     "metadata": {},
     "output_type": "display_data"
    }
   ],
   "source": [
    "plt.figure(figsize=(10,7))\n",
    "plt.plot(K, ssdist)\n",
    "plt.tight_layout()\n",
    "plt.xlabel('Number of segments (k)') \n",
    "plt.ylabel('Sum of squared distances') \n",
    "plt.title('Elbow Method For Optimal k')\n",
    "plt.show()"
   ]
  },
  {
   "cell_type": "markdown",
   "metadata": {},
   "source": [
    "A significant decline is observed at k = 6."
   ]
  },
  {
   "cell_type": "markdown",
   "metadata": {},
   "source": [
    "*Method 2: Silhouette analysis*\n",
    "\n",
    "Silhouette coefficient is a measure of how similar a data point is within-cluster (cohesion) compared to other clusters (separation).\n",
    "\n",
    "Coefficient = 1 denotes the best meaning that the data point i is very compact within the cluster to which it belongs and far away from the other clusters. The worst value is -1. Values near 0 denote overlapping clusters."
   ]
  },
  {
   "cell_type": "code",
   "execution_count": 21,
   "metadata": {},
   "outputs": [],
   "source": [
    "silhouette_avg = []\n",
    "K = range(2, 11)\n",
    "# random.seed(seed)\n",
    "for num_clusters in K:\n",
    "    kmeans = KMeans(n_clusters=num_clusters)\n",
    "    kmeans.fit(df_pca)\n",
    "    cluster_labels = kmeans.labels_\n",
    "    silhouette_avg.append(silhouette_score(df_pca, cluster_labels, \n",
    "                                           sample_size=np.int(n*0.01), n_jobs=-1))"
   ]
  },
  {
   "cell_type": "code",
   "execution_count": 22,
   "metadata": {},
   "outputs": [
    {
     "data": {
      "image/png": "[encoded data removed]",
      "text/plain": [
       "<Figure size 720x504 with 1 Axes>"
      ]
     },
     "metadata": {},
     "output_type": "display_data"
    }
   ],
   "source": [
    "fig, ax = plt.subplots(figsize = (10,7))\n",
    "ax.bar(K, silhouette_avg)\n",
    "for index, data in zip(K, silhouette_avg):\n",
    "    plt.text(x = index, y = data+0.01, s=f\"{np.round(data,3)}\" , fontdict=dict(fontsize=13), ha='center')\n",
    "plt.tight_layout()\n",
    "plt.xlabel('Number of segments (k)') \n",
    "plt.ylabel('Silhouette coefficient') \n",
    "plt.title('Silhouette Analysis For Optimal k')\n",
    "plt.show()"
   ]
  },
  {
   "cell_type": "code",
   "execution_count": 23,
   "metadata": {},
   "outputs": [
    {
     "data": {
      "image/png": "[encoded data removed]",
      "text/plain": [
       "<Figure size 1080x1080 with 9 Axes>"
      ]
     },
     "metadata": {},
     "output_type": "display_data"
    }
   ],
   "source": [
    "sample = df_pca.sample(n=np.int(n*0.01))\n",
    "fig, ax = plt.subplots(3, 3, figsize=(15,15))\n",
    "for i,num_clusters in enumerate(K):\n",
    "    kmeans = KMeans(n_clusters=num_clusters)\n",
    "    x = np.int((i)/3)\n",
    "    q, y = divmod(i, 3)\n",
    "#     silhouette_visualizer(kmeans, sample, colors='yellowbrick', ax=ax[x][y])\n",
    "    visualizer = SilhouetteVisualizer(kmeans, colors='yellowbrick', ax=ax[x][y])\n",
    "    visualizer.fit(sample)"
   ]
  },
  {
   "cell_type": "markdown",
   "metadata": {},
   "source": [
    "The value of k = 6 seems to be optimal for the given data due to the following reasons:\n",
    "* Presence of clusters with above average silhouette scores \n",
    "* Minimal fluctuations in the size of the silhouette plots\n",
    "\n",
    "Also, k = 6 yields the 4th highest silhouette coefficient among all."
   ]
  },
  {
   "cell_type": "markdown",
   "metadata": {},
   "source": [
    "*Conclusion*\n",
    "\n",
    "k = 6 is the optimal number of clusters balancing between the conditions of the SS distances and the silhouette coefficients."
   ]
  },
  {
   "cell_type": "markdown",
   "metadata": {},
   "source": [
    "### 3. Create model and return clustering labels"
   ]
  },
  {
   "cell_type": "code",
   "execution_count": 24,
   "metadata": {},
   "outputs": [],
   "source": [
    "kmeans = KMeans(n_clusters=6, random_state=123)\n",
    "kmeans.fit(df_pca)\n",
    "clusters = pd.DataFrame(kmeans.labels_, columns=['Cluster'])"
   ]
  },
  {
   "cell_type": "code",
   "execution_count": 25,
   "metadata": {},
   "outputs": [
    {
     "data": {
      "text/html": [
       "<div>\n",
       "<style scoped>\n",
       "    .dataframe tbody tr th:only-of-type {\n",
       "        vertical-align: middle;\n",
       "    }\n",
       "\n",
       "    .dataframe tbody tr th {\n",
       "        vertical-align: top;\n",
       "    }\n",
       "\n",
       "    .dataframe thead th {\n",
       "        text-align: right;\n",
       "    }\n",
       "</style>\n",
       "<table border=\"1\" class=\"dataframe\">\n",
       "  <thead>\n",
       "    <tr style=\"text-align: right;\">\n",
       "      <th></th>\n",
       "      <th>Cluster</th>\n",
       "    </tr>\n",
       "  </thead>\n",
       "  <tbody>\n",
       "    <tr>\n",
       "      <th>0</th>\n",
       "      <td>0</td>\n",
       "    </tr>\n",
       "    <tr>\n",
       "      <th>1</th>\n",
       "      <td>5</td>\n",
       "    </tr>\n",
       "    <tr>\n",
       "      <th>2</th>\n",
       "      <td>0</td>\n",
       "    </tr>\n",
       "    <tr>\n",
       "      <th>3</th>\n",
       "      <td>5</td>\n",
       "    </tr>\n",
       "    <tr>\n",
       "      <th>4</th>\n",
       "      <td>3</td>\n",
       "    </tr>\n",
       "  </tbody>\n",
       "</table>\n",
       "</div>"
      ],
      "text/plain": [
       "   Cluster\n",
       "0        0\n",
       "1        5\n",
       "2        0\n",
       "3        5\n",
       "4        3"
      ]
     },
     "execution_count": 25,
     "metadata": {},
     "output_type": "execute_result"
    }
   ],
   "source": [
    "clusters.head()"
   ]
  },
  {
   "cell_type": "code",
   "execution_count": 26,
   "metadata": {},
   "outputs": [
    {
     "data": {
      "text/html": [
       "<div>\n",
       "<style scoped>\n",
       "    .dataframe tbody tr th:only-of-type {\n",
       "        vertical-align: middle;\n",
       "    }\n",
       "\n",
       "    .dataframe tbody tr th {\n",
       "        vertical-align: top;\n",
       "    }\n",
       "\n",
       "    .dataframe thead th {\n",
       "        text-align: right;\n",
       "    }\n",
       "</style>\n",
       "<table border=\"1\" class=\"dataframe\">\n",
       "  <thead>\n",
       "    <tr style=\"text-align: right;\">\n",
       "      <th></th>\n",
       "      <th>Cluster</th>\n",
       "    </tr>\n",
       "  </thead>\n",
       "  <tbody>\n",
       "    <tr>\n",
       "      <th>1204025</th>\n",
       "      <td>3</td>\n",
       "    </tr>\n",
       "    <tr>\n",
       "      <th>1204026</th>\n",
       "      <td>5</td>\n",
       "    </tr>\n",
       "    <tr>\n",
       "      <th>1204027</th>\n",
       "      <td>0</td>\n",
       "    </tr>\n",
       "    <tr>\n",
       "      <th>1204028</th>\n",
       "      <td>2</td>\n",
       "    </tr>\n",
       "    <tr>\n",
       "      <th>1204029</th>\n",
       "      <td>4</td>\n",
       "    </tr>\n",
       "    <tr>\n",
       "      <th>1204030</th>\n",
       "      <td>1</td>\n",
       "    </tr>\n",
       "  </tbody>\n",
       "</table>\n",
       "</div>"
      ],
      "text/plain": [
       "         Cluster\n",
       "1204025        3\n",
       "1204026        5\n",
       "1204027        0\n",
       "1204028        2\n",
       "1204029        4\n",
       "1204030        1"
      ]
     },
     "execution_count": 26,
     "metadata": {},
     "output_type": "execute_result"
    }
   ],
   "source": [
    "clusters.tail(len(activities))"
   ]
  },
  {
   "cell_type": "markdown",
   "metadata": {},
   "source": [
    "*Plot clusters in 2D*"
   ]
  },
  {
   "cell_type": "code",
   "execution_count": 27,
   "metadata": {},
   "outputs": [
    {
     "data": {
      "text/html": [
       "<div>\n",
       "<style scoped>\n",
       "    .dataframe tbody tr th:only-of-type {\n",
       "        vertical-align: middle;\n",
       "    }\n",
       "\n",
       "    .dataframe tbody tr th {\n",
       "        vertical-align: top;\n",
       "    }\n",
       "\n",
       "    .dataframe thead th {\n",
       "        text-align: right;\n",
       "    }\n",
       "</style>\n",
       "<table border=\"1\" class=\"dataframe\">\n",
       "  <thead>\n",
       "    <tr style=\"text-align: right;\">\n",
       "      <th></th>\n",
       "      <th>x</th>\n",
       "      <th>y</th>\n",
       "      <th>cluster</th>\n",
       "    </tr>\n",
       "  </thead>\n",
       "  <tbody>\n",
       "    <tr>\n",
       "      <th>0</th>\n",
       "      <td>-1.962883</td>\n",
       "      <td>-0.751394</td>\n",
       "      <td>0</td>\n",
       "    </tr>\n",
       "    <tr>\n",
       "      <th>1</th>\n",
       "      <td>-2.732301</td>\n",
       "      <td>2.157130</td>\n",
       "      <td>5</td>\n",
       "    </tr>\n",
       "    <tr>\n",
       "      <th>2</th>\n",
       "      <td>-2.066001</td>\n",
       "      <td>0.783779</td>\n",
       "      <td>0</td>\n",
       "    </tr>\n",
       "    <tr>\n",
       "      <th>3</th>\n",
       "      <td>-2.444262</td>\n",
       "      <td>2.624587</td>\n",
       "      <td>5</td>\n",
       "    </tr>\n",
       "    <tr>\n",
       "      <th>4</th>\n",
       "      <td>-1.554342</td>\n",
       "      <td>-1.212528</td>\n",
       "      <td>3</td>\n",
       "    </tr>\n",
       "  </tbody>\n",
       "</table>\n",
       "</div>"
      ],
      "text/plain": [
       "          x         y  cluster\n",
       "0 -1.962883 -0.751394        0\n",
       "1 -2.732301  2.157130        5\n",
       "2 -2.066001  0.783779        0\n",
       "3 -2.444262  2.624587        5\n",
       "4 -1.554342 -1.212528        3"
      ]
     },
     "execution_count": 27,
     "metadata": {},
     "output_type": "execute_result"
    }
   ],
   "source": [
    "df_2d = pca_to_dim(2, ['x','y'])\n",
    "df_2d['cluster'] = kmeans.labels_[df_2d.index]\n",
    "df_2d.head()"
   ]
  },
  {
   "cell_type": "code",
   "execution_count": 28,
   "metadata": {},
   "outputs": [
    {
     "data": {
      "image/png": "[encoded data removed]",
      "text/plain": [
       "<Figure size 576x396 with 1 Axes>"
      ]
     },
     "metadata": {},
     "output_type": "display_data"
    }
   ],
   "source": [
    "fig, ax = plt.subplots()\n",
    "scatter = ax.scatter(df_2d['x'], df_2d['y'], c=df_2d['cluster'], cmap='plasma')\n",
    "legend = ax.legend(*scatter.legend_elements(), loc=\"upper right\")\n",
    "ax.add_artist(legend)\n",
    "ax.title.set_text('Cluster Results 2D View')\n",
    "plt.tight_layout()\n",
    "plt.show()"
   ]
  },
  {
   "cell_type": "markdown",
   "metadata": {},
   "source": [
    "*Plot clusters in 3D*"
   ]
  },
  {
   "cell_type": "code",
   "execution_count": 37,
   "metadata": {},
   "outputs": [],
   "source": [
    "#You will need a plotly account to generate the API Key \n",
    "#Follow instructions in link below \n",
    "#https://community.plotly.com/t/how-could-i-get-my-api-key/3088\n",
    "\n",
    "PLOTLY_USERNAME = %env PLOTLY_USERNAME\n",
    "PLOTLY_APIKEY = %env PLOTLY_APIKEY\n",
    "\n",
    "chart_studio.tools.set_credentials_file(username = PLOTLY_USERNAME, api_key = PLOTLY_APIKEY)"
   ]
  },
  {
   "cell_type": "code",
   "execution_count": 38,
   "metadata": {},
   "outputs": [
    {
     "data": {
      "text/html": [
       "<div>\n",
       "<style scoped>\n",
       "    .dataframe tbody tr th:only-of-type {\n",
       "        vertical-align: middle;\n",
       "    }\n",
       "\n",
       "    .dataframe tbody tr th {\n",
       "        vertical-align: top;\n",
       "    }\n",
       "\n",
       "    .dataframe thead th {\n",
       "        text-align: right;\n",
       "    }\n",
       "</style>\n",
       "<table border=\"1\" class=\"dataframe\">\n",
       "  <thead>\n",
       "    <tr style=\"text-align: right;\">\n",
       "      <th></th>\n",
       "      <th>x</th>\n",
       "      <th>y</th>\n",
       "      <th>z</th>\n",
       "      <th>cluster</th>\n",
       "    </tr>\n",
       "  </thead>\n",
       "  <tbody>\n",
       "    <tr>\n",
       "      <th>0</th>\n",
       "      <td>-1.962883</td>\n",
       "      <td>-0.751394</td>\n",
       "      <td>0.675933</td>\n",
       "      <td>0</td>\n",
       "    </tr>\n",
       "    <tr>\n",
       "      <th>1</th>\n",
       "      <td>-2.732301</td>\n",
       "      <td>2.157130</td>\n",
       "      <td>0.773148</td>\n",
       "      <td>5</td>\n",
       "    </tr>\n",
       "    <tr>\n",
       "      <th>2</th>\n",
       "      <td>-2.066001</td>\n",
       "      <td>0.783779</td>\n",
       "      <td>1.302939</td>\n",
       "      <td>0</td>\n",
       "    </tr>\n",
       "    <tr>\n",
       "      <th>3</th>\n",
       "      <td>-2.444262</td>\n",
       "      <td>2.624588</td>\n",
       "      <td>1.651294</td>\n",
       "      <td>5</td>\n",
       "    </tr>\n",
       "    <tr>\n",
       "      <th>4</th>\n",
       "      <td>-1.554342</td>\n",
       "      <td>-1.212528</td>\n",
       "      <td>-0.245577</td>\n",
       "      <td>3</td>\n",
       "    </tr>\n",
       "  </tbody>\n",
       "</table>\n",
       "</div>"
      ],
      "text/plain": [
       "          x         y         z  cluster\n",
       "0 -1.962883 -0.751394  0.675933        0\n",
       "1 -2.732301  2.157130  0.773148        5\n",
       "2 -2.066001  0.783779  1.302939        0\n",
       "3 -2.444262  2.624588  1.651294        5\n",
       "4 -1.554342 -1.212528 -0.245577        3"
      ]
     },
     "execution_count": 38,
     "metadata": {},
     "output_type": "execute_result"
    }
   ],
   "source": [
    "df_3d = pca_to_dim(3, ['x','y','z'])\n",
    "df_3d['cluster'] = kmeans.labels_[df_3d.index]\n",
    "df_3d.head()"
   ]
  },
  {
   "cell_type": "code",
   "execution_count": 39,
   "metadata": {
    "code_folding": [
     0
    ]
   },
   "outputs": [],
   "source": [
    "# df_3d = df_3d.sample(n=np.int(n*0.01))\n",
    "# fig = plt.figure(figsize=(10, 10))\n",
    "# ax = fig.add_subplot(projection='3d')\n",
    "# scatter = ax.scatter3D(df_3d['x'], df_3d['y'], df_3d['z'], c=df_3d['cluster'], cmap='plasma')\n",
    "# legend = ax.legend(*scatter.legend_elements(), loc=\"upper right\")\n",
    "# ax.add_artist(legend)\n",
    "# plt.show()"
   ]
  },
  {
   "cell_type": "code",
   "execution_count": 40,
   "metadata": {
    "code_folding": [
     1
    ]
   },
   "outputs": [],
   "source": [
    "df_3d = df_3d.sample(n=np.int(n*0.005))\n",
    "trace = go.Scatter3d(\n",
    "    x = df_3d['x'],\n",
    "    y = df_3d['y'],\n",
    "    z = df_3d['z'],\n",
    "    text = [\"Index \" + str(i) for i in df_3d.index],\n",
    "    mode = 'markers',\n",
    "    marker = dict(\n",
    "        size = 4,\n",
    "        color = df_3d['cluster'],\n",
    "#         colorscale = 'viridis',  # https://plotly.com/python/builtin-colorscales/\n",
    "        opacity = 0.8\n",
    "    )\n",
    ")\n",
    "my_data = [trace]"
   ]
  },
  {
   "cell_type": "code",
   "execution_count": 41,
   "metadata": {
    "code_folding": [
     0
    ]
   },
   "outputs": [],
   "source": [
    "my_layout = go.Layout(\n",
    "    title = 'Cluster Results 3D View',\n",
    "#     showlegend = True,\n",
    "    scene = dict(\n",
    "        xaxis = dict(title = 'x'),\n",
    "        yaxis = dict(title = 'y'),\n",
    "        zaxis = dict(title = 'z')\n",
    "    )\n",
    ")"
   ]
  },
  {
   "cell_type": "code",
   "execution_count": 42,
   "metadata": {
    "scrolled": false
   },
   "outputs": [
    {
     "data": {
      "text/html": [
       "\n",
       "        <iframe\n",
       "            width=\"100%\"\n",
       "            height=\"525px\"\n",
       "            src=\"https://plotly.com/~ngmegnguyen/5.embed\"\n",
       "            frameborder=\"0\"\n",
       "            allowfullscreen\n",
       "        ></iframe>\n",
       "        "
      ],
      "text/plain": [
       "<IPython.lib.display.IFrame at 0x163a3289610>"
      ]
     },
     "execution_count": 42,
     "metadata": {},
     "output_type": "execute_result"
    }
   ],
   "source": [
    "fig = go.Figure(data=my_data, layout=my_layout)\n",
    "# fig.update_traces(showlegend=False)\n",
    "py.iplot(fig, filename='plotly_live_3D')"
   ]
  },
  {
   "cell_type": "markdown",
   "metadata": {},
   "source": [
    "# Step 3: Prioritize songs in a selected cluster by additional criteria (KK)\n",
    "\n",
    "\n",
    "### After Step#2, \n",
    "**What we know**\n",
    "\n",
    "* Index of songs and the cluster to which each song belongs to\n",
    "* Song metadata like name can be obtained looking up index against input dataset\n",
    "* Activities and the corresponding seed songs and its corresponding index\n",
    "\n",
    "**What is input from the UI screen**\n",
    "* Activity\n",
    "* Explicit Yes or No\n",
    "* Year of birth \n",
    "* Number of songs to be retrieved\n",
    "\n",
    "**What is output**\n",
    "* Top x songs as input from the cluster closely resembling the input\n",
    "\n",
    "\n",
    "Now that we know which cluster each song belongs to, the below steps will prep the data to be made available to the Flask API which the song UI invokes. "
   ]
  },
  {
   "cell_type": "markdown",
   "metadata": {},
   "source": [
    "### Inspect the clusters dataframe which has the cluster assignments from Step2"
   ]
  },
  {
   "cell_type": "code",
   "execution_count": 43,
   "metadata": {},
   "outputs": [
    {
     "data": {
      "text/html": [
       "<div>\n",
       "<style scoped>\n",
       "    .dataframe tbody tr th:only-of-type {\n",
       "        vertical-align: middle;\n",
       "    }\n",
       "\n",
       "    .dataframe tbody tr th {\n",
       "        vertical-align: top;\n",
       "    }\n",
       "\n",
       "    .dataframe thead th {\n",
       "        text-align: right;\n",
       "    }\n",
       "</style>\n",
       "<table border=\"1\" class=\"dataframe\">\n",
       "  <thead>\n",
       "    <tr style=\"text-align: right;\">\n",
       "      <th></th>\n",
       "      <th>Cluster</th>\n",
       "    </tr>\n",
       "  </thead>\n",
       "  <tbody>\n",
       "    <tr>\n",
       "      <th>0</th>\n",
       "      <td>0</td>\n",
       "    </tr>\n",
       "    <tr>\n",
       "      <th>1</th>\n",
       "      <td>5</td>\n",
       "    </tr>\n",
       "    <tr>\n",
       "      <th>2</th>\n",
       "      <td>0</td>\n",
       "    </tr>\n",
       "    <tr>\n",
       "      <th>3</th>\n",
       "      <td>5</td>\n",
       "    </tr>\n",
       "    <tr>\n",
       "      <th>4</th>\n",
       "      <td>3</td>\n",
       "    </tr>\n",
       "  </tbody>\n",
       "</table>\n",
       "</div>"
      ],
      "text/plain": [
       "   Cluster\n",
       "0        0\n",
       "1        5\n",
       "2        0\n",
       "3        5\n",
       "4        3"
      ]
     },
     "execution_count": 43,
     "metadata": {},
     "output_type": "execute_result"
    }
   ],
   "source": [
    "#clusters dataframe has the cluster assignment for each song using its index in teh input data file\n",
    "clusters.head()"
   ]
  },
  {
   "cell_type": "markdown",
   "metadata": {},
   "source": [
    "### Append the cluster to the original dataset so that we can lookup song by cluster"
   ]
  },
  {
   "cell_type": "code",
   "execution_count": 44,
   "metadata": {},
   "outputs": [
    {
     "data": {
      "text/html": [
       "<div>\n",
       "<style scoped>\n",
       "    .dataframe tbody tr th:only-of-type {\n",
       "        vertical-align: middle;\n",
       "    }\n",
       "\n",
       "    .dataframe tbody tr th {\n",
       "        vertical-align: top;\n",
       "    }\n",
       "\n",
       "    .dataframe thead th {\n",
       "        text-align: right;\n",
       "    }\n",
       "</style>\n",
       "<table border=\"1\" class=\"dataframe\">\n",
       "  <thead>\n",
       "    <tr style=\"text-align: right;\">\n",
       "      <th></th>\n",
       "      <th>id</th>\n",
       "      <th>name</th>\n",
       "      <th>album</th>\n",
       "      <th>album_id</th>\n",
       "      <th>artists</th>\n",
       "      <th>artist_ids</th>\n",
       "      <th>track_number</th>\n",
       "      <th>disc_number</th>\n",
       "      <th>explicit</th>\n",
       "      <th>danceability</th>\n",
       "      <th>...</th>\n",
       "      <th>acousticness</th>\n",
       "      <th>instrumentalness</th>\n",
       "      <th>liveness</th>\n",
       "      <th>valence</th>\n",
       "      <th>tempo</th>\n",
       "      <th>duration_ms</th>\n",
       "      <th>time_signature</th>\n",
       "      <th>year</th>\n",
       "      <th>release_date</th>\n",
       "      <th>Cluster</th>\n",
       "    </tr>\n",
       "  </thead>\n",
       "  <tbody>\n",
       "    <tr>\n",
       "      <th>0</th>\n",
       "      <td>7lmeHLHBe4nmXzuXc0HDjk</td>\n",
       "      <td>Testify</td>\n",
       "      <td>The Battle Of Los Angeles</td>\n",
       "      <td>2eia0myWFgoHuttJytCxgX</td>\n",
       "      <td>['Rage Against The Machine']</td>\n",
       "      <td>['2d0hyoQ5ynDBnkvAbJKORj']</td>\n",
       "      <td>1</td>\n",
       "      <td>1</td>\n",
       "      <td>0</td>\n",
       "      <td>0.470</td>\n",
       "      <td>...</td>\n",
       "      <td>0.02610</td>\n",
       "      <td>0.000011</td>\n",
       "      <td>0.3560</td>\n",
       "      <td>0.503</td>\n",
       "      <td>117.906</td>\n",
       "      <td>210133</td>\n",
       "      <td>4.0</td>\n",
       "      <td>1999</td>\n",
       "      <td>1999-11-02</td>\n",
       "      <td>0</td>\n",
       "    </tr>\n",
       "    <tr>\n",
       "      <th>1</th>\n",
       "      <td>1wsRitfRRtWyEapl0q22o8</td>\n",
       "      <td>Guerrilla Radio</td>\n",
       "      <td>The Battle Of Los Angeles</td>\n",
       "      <td>2eia0myWFgoHuttJytCxgX</td>\n",
       "      <td>['Rage Against The Machine']</td>\n",
       "      <td>['2d0hyoQ5ynDBnkvAbJKORj']</td>\n",
       "      <td>2</td>\n",
       "      <td>1</td>\n",
       "      <td>1</td>\n",
       "      <td>0.599</td>\n",
       "      <td>...</td>\n",
       "      <td>0.01290</td>\n",
       "      <td>0.000071</td>\n",
       "      <td>0.1550</td>\n",
       "      <td>0.489</td>\n",
       "      <td>103.680</td>\n",
       "      <td>206200</td>\n",
       "      <td>4.0</td>\n",
       "      <td>1999</td>\n",
       "      <td>1999-11-02</td>\n",
       "      <td>5</td>\n",
       "    </tr>\n",
       "    <tr>\n",
       "      <th>2</th>\n",
       "      <td>1hR0fIFK2qRG3f3RF70pb7</td>\n",
       "      <td>Calm Like a Bomb</td>\n",
       "      <td>The Battle Of Los Angeles</td>\n",
       "      <td>2eia0myWFgoHuttJytCxgX</td>\n",
       "      <td>['Rage Against The Machine']</td>\n",
       "      <td>['2d0hyoQ5ynDBnkvAbJKORj']</td>\n",
       "      <td>3</td>\n",
       "      <td>1</td>\n",
       "      <td>0</td>\n",
       "      <td>0.315</td>\n",
       "      <td>...</td>\n",
       "      <td>0.02340</td>\n",
       "      <td>0.000002</td>\n",
       "      <td>0.1220</td>\n",
       "      <td>0.370</td>\n",
       "      <td>149.749</td>\n",
       "      <td>298893</td>\n",
       "      <td>4.0</td>\n",
       "      <td>1999</td>\n",
       "      <td>1999-11-02</td>\n",
       "      <td>0</td>\n",
       "    </tr>\n",
       "    <tr>\n",
       "      <th>3</th>\n",
       "      <td>2lbASgTSoDO7MTuLAXlTW0</td>\n",
       "      <td>Mic Check</td>\n",
       "      <td>The Battle Of Los Angeles</td>\n",
       "      <td>2eia0myWFgoHuttJytCxgX</td>\n",
       "      <td>['Rage Against The Machine']</td>\n",
       "      <td>['2d0hyoQ5ynDBnkvAbJKORj']</td>\n",
       "      <td>4</td>\n",
       "      <td>1</td>\n",
       "      <td>1</td>\n",
       "      <td>0.440</td>\n",
       "      <td>...</td>\n",
       "      <td>0.16300</td>\n",
       "      <td>0.000004</td>\n",
       "      <td>0.1210</td>\n",
       "      <td>0.574</td>\n",
       "      <td>96.752</td>\n",
       "      <td>213640</td>\n",
       "      <td>4.0</td>\n",
       "      <td>1999</td>\n",
       "      <td>1999-11-02</td>\n",
       "      <td>5</td>\n",
       "    </tr>\n",
       "    <tr>\n",
       "      <th>4</th>\n",
       "      <td>1MQTmpYOZ6fcMQc56Hdo7T</td>\n",
       "      <td>Sleep Now In the Fire</td>\n",
       "      <td>The Battle Of Los Angeles</td>\n",
       "      <td>2eia0myWFgoHuttJytCxgX</td>\n",
       "      <td>['Rage Against The Machine']</td>\n",
       "      <td>['2d0hyoQ5ynDBnkvAbJKORj']</td>\n",
       "      <td>5</td>\n",
       "      <td>1</td>\n",
       "      <td>0</td>\n",
       "      <td>0.426</td>\n",
       "      <td>...</td>\n",
       "      <td>0.00162</td>\n",
       "      <td>0.105000</td>\n",
       "      <td>0.0789</td>\n",
       "      <td>0.539</td>\n",
       "      <td>127.059</td>\n",
       "      <td>205600</td>\n",
       "      <td>4.0</td>\n",
       "      <td>1999</td>\n",
       "      <td>1999-11-02</td>\n",
       "      <td>3</td>\n",
       "    </tr>\n",
       "  </tbody>\n",
       "</table>\n",
       "<p>5 rows × 25 columns</p>\n",
       "</div>"
      ],
      "text/plain": [
       "                       id                   name                      album  \\\n",
       "0  7lmeHLHBe4nmXzuXc0HDjk                Testify  The Battle Of Los Angeles   \n",
       "1  1wsRitfRRtWyEapl0q22o8        Guerrilla Radio  The Battle Of Los Angeles   \n",
       "2  1hR0fIFK2qRG3f3RF70pb7       Calm Like a Bomb  The Battle Of Los Angeles   \n",
       "3  2lbASgTSoDO7MTuLAXlTW0              Mic Check  The Battle Of Los Angeles   \n",
       "4  1MQTmpYOZ6fcMQc56Hdo7T  Sleep Now In the Fire  The Battle Of Los Angeles   \n",
       "\n",
       "                 album_id                       artists  \\\n",
       "0  2eia0myWFgoHuttJytCxgX  ['Rage Against The Machine']   \n",
       "1  2eia0myWFgoHuttJytCxgX  ['Rage Against The Machine']   \n",
       "2  2eia0myWFgoHuttJytCxgX  ['Rage Against The Machine']   \n",
       "3  2eia0myWFgoHuttJytCxgX  ['Rage Against The Machine']   \n",
       "4  2eia0myWFgoHuttJytCxgX  ['Rage Against The Machine']   \n",
       "\n",
       "                   artist_ids  track_number  disc_number  explicit  \\\n",
       "0  ['2d0hyoQ5ynDBnkvAbJKORj']             1            1         0   \n",
       "1  ['2d0hyoQ5ynDBnkvAbJKORj']             2            1         1   \n",
       "2  ['2d0hyoQ5ynDBnkvAbJKORj']             3            1         0   \n",
       "3  ['2d0hyoQ5ynDBnkvAbJKORj']             4            1         1   \n",
       "4  ['2d0hyoQ5ynDBnkvAbJKORj']             5            1         0   \n",
       "\n",
       "   danceability  ...  acousticness  instrumentalness  liveness  valence  \\\n",
       "0         0.470  ...       0.02610          0.000011    0.3560    0.503   \n",
       "1         0.599  ...       0.01290          0.000071    0.1550    0.489   \n",
       "2         0.315  ...       0.02340          0.000002    0.1220    0.370   \n",
       "3         0.440  ...       0.16300          0.000004    0.1210    0.574   \n",
       "4         0.426  ...       0.00162          0.105000    0.0789    0.539   \n",
       "\n",
       "     tempo  duration_ms  time_signature  year  release_date  Cluster  \n",
       "0  117.906       210133             4.0  1999    1999-11-02        0  \n",
       "1  103.680       206200             4.0  1999    1999-11-02        5  \n",
       "2  149.749       298893             4.0  1999    1999-11-02        0  \n",
       "3   96.752       213640             4.0  1999    1999-11-02        5  \n",
       "4  127.059       205600             4.0  1999    1999-11-02        3  \n",
       "\n",
       "[5 rows x 25 columns]"
      ]
     },
     "execution_count": 44,
     "metadata": {},
     "output_type": "execute_result"
    }
   ],
   "source": [
    "#clusters.groupby(['Cluster']).size()\n",
    "songswithcluster = pd.merge(df_full, clusters,left_index=True,right_index=True)\n",
    "songswithcluster.head()"
   ]
  },
  {
   "cell_type": "markdown",
   "metadata": {},
   "source": [
    "### Check the distribution of rows across clusters to ensure a fairly even split"
   ]
  },
  {
   "cell_type": "code",
   "execution_count": 45,
   "metadata": {},
   "outputs": [
    {
     "data": {
      "text/plain": [
       "Cluster\n",
       "0    178878\n",
       "1    231253\n",
       "2    245450\n",
       "3    263346\n",
       "4    187558\n",
       "5     97546\n",
       "dtype: int64"
      ]
     },
     "execution_count": 45,
     "metadata": {},
     "output_type": "execute_result"
    }
   ],
   "source": [
    "clusters.groupby(['Cluster']).size()"
   ]
  },
  {
   "cell_type": "markdown",
   "metadata": {},
   "source": [
    "### Inspect the seed_ind dataset which has the index for each of the seed songs"
   ]
  },
  {
   "cell_type": "code",
   "execution_count": 46,
   "metadata": {},
   "outputs": [
    {
     "data": {
      "text/plain": [
       "{'driving': 1204025,\n",
       " 'cooking': 1204026,\n",
       " 'studying': 1204027,\n",
       " 'working out': 1204028,\n",
       " 'cleaning': 1204029,\n",
       " 'being creative': 1204030}"
      ]
     },
     "execution_count": 46,
     "metadata": {},
     "output_type": "execute_result"
    }
   ],
   "source": [
    "# The below dictionary has the row index for each of the seed activities\n",
    "seed_ind"
   ]
  },
  {
   "cell_type": "markdown",
   "metadata": {},
   "source": [
    "### For each of the seed songs, identify its index on the updated dataframe from Step1. Write the data points to a dataframe. "
   ]
  },
  {
   "cell_type": "code",
   "execution_count": 47,
   "metadata": {},
   "outputs": [
    {
     "data": {
      "text/html": [
       "<div>\n",
       "<style scoped>\n",
       "    .dataframe tbody tr th:only-of-type {\n",
       "        vertical-align: middle;\n",
       "    }\n",
       "\n",
       "    .dataframe tbody tr th {\n",
       "        vertical-align: top;\n",
       "    }\n",
       "\n",
       "    .dataframe thead th {\n",
       "        text-align: right;\n",
       "    }\n",
       "</style>\n",
       "<table border=\"1\" class=\"dataframe\">\n",
       "  <thead>\n",
       "    <tr style=\"text-align: right;\">\n",
       "      <th></th>\n",
       "      <th>Activity</th>\n",
       "      <th>Index</th>\n",
       "      <th>Cluster</th>\n",
       "    </tr>\n",
       "  </thead>\n",
       "  <tbody>\n",
       "    <tr>\n",
       "      <th>0</th>\n",
       "      <td>driving</td>\n",
       "      <td>1204025</td>\n",
       "      <td>3</td>\n",
       "    </tr>\n",
       "    <tr>\n",
       "      <th>1</th>\n",
       "      <td>cooking</td>\n",
       "      <td>1204026</td>\n",
       "      <td>5</td>\n",
       "    </tr>\n",
       "    <tr>\n",
       "      <th>2</th>\n",
       "      <td>studying</td>\n",
       "      <td>1204027</td>\n",
       "      <td>0</td>\n",
       "    </tr>\n",
       "    <tr>\n",
       "      <th>3</th>\n",
       "      <td>working out</td>\n",
       "      <td>1204028</td>\n",
       "      <td>2</td>\n",
       "    </tr>\n",
       "    <tr>\n",
       "      <th>4</th>\n",
       "      <td>cleaning</td>\n",
       "      <td>1204029</td>\n",
       "      <td>4</td>\n",
       "    </tr>\n",
       "    <tr>\n",
       "      <th>5</th>\n",
       "      <td>being creative</td>\n",
       "      <td>1204030</td>\n",
       "      <td>1</td>\n",
       "    </tr>\n",
       "  </tbody>\n",
       "</table>\n",
       "</div>"
      ],
      "text/plain": [
       "         Activity    Index  Cluster\n",
       "0         driving  1204025        3\n",
       "1         cooking  1204026        5\n",
       "2        studying  1204027        0\n",
       "3     working out  1204028        2\n",
       "4        cleaning  1204029        4\n",
       "5  being creative  1204030        1"
      ]
     },
     "execution_count": 47,
     "metadata": {},
     "output_type": "execute_result"
    }
   ],
   "source": [
    "seedInfo = {'Activity':[],'Index':[],'Cluster':[]}\n",
    "for i in seed_ind:\n",
    "    seedInfo['Activity'] += [i]\n",
    "    seedInfo['Index'] += [seed_ind[i]]\n",
    "    seedInfo['Cluster'] += [clusters.iloc[seed_ind[i]]['Cluster']]\n",
    "\n",
    "seedInfoDF = pd.DataFrame(seedInfo)\n",
    "\n",
    "seedInfoDF"
   ]
  },
  {
   "cell_type": "markdown",
   "metadata": {},
   "source": [
    "### Write the seed info dataframe into a parquet file so that it can be read by the Flask API. This data will be read by the Flask API to identify which cluster the seed song belongs to"
   ]
  },
  {
   "cell_type": "code",
   "execution_count": 48,
   "metadata": {},
   "outputs": [],
   "source": [
    "seedInfoDF.to_parquet('../FlaskAPI/data/seedInfo.parquet')"
   ]
  },
  {
   "cell_type": "markdown",
   "metadata": {},
   "source": [
    "### Filter the songswithcluster dataframe to only the fields we need for song selection. Write this dataframe to a parquet file to be used by the Flaks API"
   ]
  },
  {
   "cell_type": "code",
   "execution_count": 49,
   "metadata": {},
   "outputs": [
    {
     "data": {
      "text/html": [
       "<div>\n",
       "<style scoped>\n",
       "    .dataframe tbody tr th:only-of-type {\n",
       "        vertical-align: middle;\n",
       "    }\n",
       "\n",
       "    .dataframe tbody tr th {\n",
       "        vertical-align: top;\n",
       "    }\n",
       "\n",
       "    .dataframe thead th {\n",
       "        text-align: right;\n",
       "    }\n",
       "</style>\n",
       "<table border=\"1\" class=\"dataframe\">\n",
       "  <thead>\n",
       "    <tr style=\"text-align: right;\">\n",
       "      <th></th>\n",
       "      <th>name</th>\n",
       "      <th>album</th>\n",
       "      <th>artists</th>\n",
       "      <th>year</th>\n",
       "      <th>Cluster</th>\n",
       "      <th>release_date</th>\n",
       "      <th>explicit</th>\n",
       "    </tr>\n",
       "  </thead>\n",
       "  <tbody>\n",
       "    <tr>\n",
       "      <th>0</th>\n",
       "      <td>Testify</td>\n",
       "      <td>The Battle Of Los Angeles</td>\n",
       "      <td>['Rage Against The Machine']</td>\n",
       "      <td>1999</td>\n",
       "      <td>0</td>\n",
       "      <td>1999-11-02</td>\n",
       "      <td>0</td>\n",
       "    </tr>\n",
       "    <tr>\n",
       "      <th>1</th>\n",
       "      <td>Guerrilla Radio</td>\n",
       "      <td>The Battle Of Los Angeles</td>\n",
       "      <td>['Rage Against The Machine']</td>\n",
       "      <td>1999</td>\n",
       "      <td>5</td>\n",
       "      <td>1999-11-02</td>\n",
       "      <td>1</td>\n",
       "    </tr>\n",
       "    <tr>\n",
       "      <th>2</th>\n",
       "      <td>Calm Like a Bomb</td>\n",
       "      <td>The Battle Of Los Angeles</td>\n",
       "      <td>['Rage Against The Machine']</td>\n",
       "      <td>1999</td>\n",
       "      <td>0</td>\n",
       "      <td>1999-11-02</td>\n",
       "      <td>0</td>\n",
       "    </tr>\n",
       "    <tr>\n",
       "      <th>3</th>\n",
       "      <td>Mic Check</td>\n",
       "      <td>The Battle Of Los Angeles</td>\n",
       "      <td>['Rage Against The Machine']</td>\n",
       "      <td>1999</td>\n",
       "      <td>5</td>\n",
       "      <td>1999-11-02</td>\n",
       "      <td>1</td>\n",
       "    </tr>\n",
       "    <tr>\n",
       "      <th>4</th>\n",
       "      <td>Sleep Now In the Fire</td>\n",
       "      <td>The Battle Of Los Angeles</td>\n",
       "      <td>['Rage Against The Machine']</td>\n",
       "      <td>1999</td>\n",
       "      <td>3</td>\n",
       "      <td>1999-11-02</td>\n",
       "      <td>0</td>\n",
       "    </tr>\n",
       "  </tbody>\n",
       "</table>\n",
       "</div>"
      ],
      "text/plain": [
       "                    name                      album  \\\n",
       "0                Testify  The Battle Of Los Angeles   \n",
       "1        Guerrilla Radio  The Battle Of Los Angeles   \n",
       "2       Calm Like a Bomb  The Battle Of Los Angeles   \n",
       "3              Mic Check  The Battle Of Los Angeles   \n",
       "4  Sleep Now In the Fire  The Battle Of Los Angeles   \n",
       "\n",
       "                        artists  year  Cluster release_date  explicit  \n",
       "0  ['Rage Against The Machine']  1999        0   1999-11-02         0  \n",
       "1  ['Rage Against The Machine']  1999        5   1999-11-02         1  \n",
       "2  ['Rage Against The Machine']  1999        0   1999-11-02         0  \n",
       "3  ['Rage Against The Machine']  1999        5   1999-11-02         1  \n",
       "4  ['Rage Against The Machine']  1999        3   1999-11-02         0  "
      ]
     },
     "execution_count": 49,
     "metadata": {},
     "output_type": "execute_result"
    }
   ],
   "source": [
    "songswithcluster_trimmed = songswithcluster[['name', 'album', 'artists','year','Cluster','release_date','explicit']]\n",
    "\n",
    "songswithcluster_trimmed.to_parquet('../FlaskAPI/data/clusters_trimmed.parquet')\n",
    "\n",
    "songswithcluster_trimmed.head()"
   ]
  },
  {
   "cell_type": "markdown",
   "metadata": {},
   "source": [
    "### Write all the accepted activities list to an output file so that the FlaskAPI can use this file to perform validation on API Calls from the UI. An error will be thrown if an activity is passed to the REST API which is not available on this list"
   ]
  },
  {
   "cell_type": "code",
   "execution_count": 50,
   "metadata": {},
   "outputs": [
    {
     "data": {
      "text/plain": [
       "['driving', 'cooking', 'studying', 'working out', 'cleaning', 'being creative']"
      ]
     },
     "execution_count": 50,
     "metadata": {},
     "output_type": "execute_result"
    }
   ],
   "source": [
    "acceptedActivities = pd.DataFrame(activities,columns=['activity'])\n",
    "acceptedActivities.to_parquet('../FlaskAPI/data/acceptedActivities.parquet')\n",
    "\n",
    "# if (pd.read_parquet('../FlaskAPI/data/acceptedActivities.parquet')['activity'][0] == 'driving'):\n",
    "#     print('yes')\n",
    "    \n",
    "list(pd.read_parquet('../FlaskAPI/data/acceptedActivities.parquet')['activity'])    "
   ]
  },
  {
   "cell_type": "markdown",
   "metadata": {},
   "source": [
    "### For each of the activity, we filter the features dataset (the features selected by the PCA algorithm in Step1) to include ONLY the data points which are within the cluster of the seed song for the activity. (Eg: If the activity is driving, and assuming the seed song datapoint for driving falls under Cluster5, we write out an output file having only the data points that are assigned to Cluster5 by the Kmeans algorithm in Step1 above)\n",
    "\n",
    "### For each of the features dataset, we calculate the Euclidean distance between the data point and the data point corresponding to the seed songs. Since the data point corresponding to the seed songs captures all the features included in all of the seed songs, we theorize that the closest data points to the seed song data point will have a higher order of precedence to be displayed on the playlist. The updated dataset is written out to output files to be read by the Flask API"
   ]
  },
  {
   "cell_type": "code",
   "execution_count": 51,
   "metadata": {},
   "outputs": [
    {
     "data": {
      "text/html": [
       "<div>\n",
       "<style scoped>\n",
       "    .dataframe tbody tr th:only-of-type {\n",
       "        vertical-align: middle;\n",
       "    }\n",
       "\n",
       "    .dataframe tbody tr th {\n",
       "        vertical-align: top;\n",
       "    }\n",
       "\n",
       "    .dataframe thead th {\n",
       "        text-align: right;\n",
       "    }\n",
       "</style>\n",
       "<table border=\"1\" class=\"dataframe\">\n",
       "  <thead>\n",
       "    <tr style=\"text-align: right;\">\n",
       "      <th></th>\n",
       "      <th>distance</th>\n",
       "    </tr>\n",
       "    <tr>\n",
       "      <th>index</th>\n",
       "      <th></th>\n",
       "    </tr>\n",
       "  </thead>\n",
       "  <tbody>\n",
       "    <tr>\n",
       "      <th>119</th>\n",
       "      <td>4.706003</td>\n",
       "    </tr>\n",
       "    <tr>\n",
       "      <th>149</th>\n",
       "      <td>4.064400</td>\n",
       "    </tr>\n",
       "    <tr>\n",
       "      <th>364</th>\n",
       "      <td>3.815666</td>\n",
       "    </tr>\n",
       "    <tr>\n",
       "      <th>408</th>\n",
       "      <td>4.219097</td>\n",
       "    </tr>\n",
       "    <tr>\n",
       "      <th>409</th>\n",
       "      <td>3.882592</td>\n",
       "    </tr>\n",
       "  </tbody>\n",
       "</table>\n",
       "</div>"
      ],
      "text/plain": [
       "       distance\n",
       "index          \n",
       "119    4.706003\n",
       "149    4.064400\n",
       "364    3.815666\n",
       "408    4.219097\n",
       "409    3.882592"
      ]
     },
     "execution_count": 51,
     "metadata": {},
     "output_type": "execute_result"
    }
   ],
   "source": [
    "features = np.array(df_pca)\n",
    "\n",
    "for activity in activities:\n",
    "    seedCluster = clusters.iloc[seed_ind[activity]]['Cluster']\n",
    "    activityData = songswithcluster[songswithcluster['Cluster']==seedCluster]\n",
    "    distArray = {'index':[],'distance':[]}\n",
    "    for i in activityData.index:\n",
    "        distArray['index'] += [i]\n",
    "        distArray['distance'] += [np.linalg.norm(features[i] - features[seed_ind[activity]])]\n",
    "    distArrayPd = pd.DataFrame(distArray).set_index('index')\n",
    "    distArrayPd.to_parquet('../FlaskAPI/data/featureColumns_' + activity.replace(\" \",\"\") + '.parquet')\n",
    "    \n",
    "distArrayPd.head()"
   ]
  }
 ],
 "metadata": {
  "hide_input": false,
  "kernelspec": {
   "display_name": "Python 3",
   "language": "python",
   "name": "python3"
  },
  "language_info": {
   "codemirror_mode": {
    "name": "ipython",
    "version": 3
   },
   "file_extension": ".py",
   "mimetype": "text/x-python",
   "name": "python",
   "nbconvert_exporter": "python",
   "pygments_lexer": "ipython3",
   "version": "3.8.2"
  }
 },
 "nbformat": 4,
 "nbformat_minor": 5
}
